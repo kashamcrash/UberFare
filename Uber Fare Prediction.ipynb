{
 "cells": [
  {
   "cell_type": "code",
   "execution_count": 1,
   "metadata": {},
   "outputs": [],
   "source": [
    "# Uber Fare Prediction\n",
    "# Design an algorithm that will predict the fare to be charged for a passenger\n",
    "\n",
    "# Credentials: kasham1991@gmail.com / Karan Sharma\n",
    "# # Google Drive Link (1.6 GB) : https://drive.google.com/open?id=1Yp_1LWg4rtBj6ezbu6AqGRO8LpFUdYiD"
   ]
  },
  {
   "cell_type": "code",
   "execution_count": 2,
   "metadata": {},
   "outputs": [],
   "source": [
    "# Importing the required libraries\n",
    "import numpy as np \n",
    "import pandas as pd "
   ]
  },
  {
   "cell_type": "code",
   "execution_count": 3,
   "metadata": {},
   "outputs": [],
   "source": [
    "# Loading the dataset\n",
    "# The training sheet is massive, hence calling out only 9 lakh rows\n",
    "train = pd.read_csv(\"C:\\\\Datasets\\\\Uber_train.csv\", nrows = 900000)\n",
    "test = pd.read_csv(\"C:\\\\Datasets\\\\Uber_test.csv\")"
   ]
  },
  {
   "cell_type": "code",
   "execution_count": 4,
   "metadata": {},
   "outputs": [
    {
     "name": "stdout",
     "output_type": "stream",
     "text": [
      "(900000, 8)\n",
      "Index(['key', 'fare_amount', 'pickup_datetime', 'pickup_longitude',\n",
      "       'pickup_latitude', 'dropoff_longitude', 'dropoff_latitude',\n",
      "       'passenger_count'],\n",
      "      dtype='object')\n",
      "(9914, 7)\n",
      "Index(['key', 'pickup_datetime', 'pickup_longitude', 'pickup_latitude',\n",
      "       'dropoff_longitude', 'dropoff_latitude', 'passenger_count'],\n",
      "      dtype='object')\n"
     ]
    }
   ],
   "source": [
    "# Looking at the dataset\n",
    "print (train.shape)\n",
    "print (train.columns)\n",
    "print (test.shape)\n",
    "print (test.columns)"
   ]
  },
  {
   "cell_type": "code",
   "execution_count": 5,
   "metadata": {},
   "outputs": [
    {
     "name": "stdout",
     "output_type": "stream",
     "text": [
      "<class 'pandas.core.frame.DataFrame'>\n",
      "RangeIndex: 900000 entries, 0 to 899999\n",
      "Data columns (total 8 columns):\n",
      " #   Column             Non-Null Count   Dtype  \n",
      "---  ------             --------------   -----  \n",
      " 0   key                900000 non-null  object \n",
      " 1   fare_amount        900000 non-null  float64\n",
      " 2   pickup_datetime    900000 non-null  object \n",
      " 3   pickup_longitude   900000 non-null  float64\n",
      " 4   pickup_latitude    900000 non-null  float64\n",
      " 5   dropoff_longitude  899990 non-null  float64\n",
      " 6   dropoff_latitude   899990 non-null  float64\n",
      " 7   passenger_count    900000 non-null  int64  \n",
      "dtypes: float64(5), int64(1), object(2)\n",
      "memory usage: 54.9+ MB\n"
     ]
    }
   ],
   "source": [
    "# Looking at the dtypes\n",
    "# We need to convert pickup_datetime into date time in python\n",
    "train.info()\n",
    "# train.head()"
   ]
  },
  {
   "cell_type": "code",
   "execution_count": 6,
   "metadata": {},
   "outputs": [
    {
     "data": {
      "text/html": [
       "<div>\n",
       "<style scoped>\n",
       "    .dataframe tbody tr th:only-of-type {\n",
       "        vertical-align: middle;\n",
       "    }\n",
       "\n",
       "    .dataframe tbody tr th {\n",
       "        vertical-align: top;\n",
       "    }\n",
       "\n",
       "    .dataframe thead th {\n",
       "        text-align: right;\n",
       "    }\n",
       "</style>\n",
       "<table border=\"1\" class=\"dataframe\">\n",
       "  <thead>\n",
       "    <tr style=\"text-align: right;\">\n",
       "      <th></th>\n",
       "      <th>key</th>\n",
       "      <th>fare_amount</th>\n",
       "      <th>pickup_datetime</th>\n",
       "      <th>pickup_longitude</th>\n",
       "      <th>pickup_latitude</th>\n",
       "      <th>dropoff_longitude</th>\n",
       "      <th>dropoff_latitude</th>\n",
       "      <th>passenger_count</th>\n",
       "    </tr>\n",
       "  </thead>\n",
       "  <tbody>\n",
       "    <tr>\n",
       "      <th>0</th>\n",
       "      <td>2009-06-15 17:26:21.0000001</td>\n",
       "      <td>4.5</td>\n",
       "      <td>2009-06-15 17:26:21+00:00</td>\n",
       "      <td>-73.844311</td>\n",
       "      <td>40.721319</td>\n",
       "      <td>-73.841610</td>\n",
       "      <td>40.712278</td>\n",
       "      <td>1</td>\n",
       "    </tr>\n",
       "    <tr>\n",
       "      <th>1</th>\n",
       "      <td>2010-01-05 16:52:16.0000002</td>\n",
       "      <td>16.9</td>\n",
       "      <td>2010-01-05 16:52:16+00:00</td>\n",
       "      <td>-74.016048</td>\n",
       "      <td>40.711303</td>\n",
       "      <td>-73.979268</td>\n",
       "      <td>40.782004</td>\n",
       "      <td>1</td>\n",
       "    </tr>\n",
       "    <tr>\n",
       "      <th>2</th>\n",
       "      <td>2011-08-18 00:35:00.00000049</td>\n",
       "      <td>5.7</td>\n",
       "      <td>2011-08-18 00:35:00+00:00</td>\n",
       "      <td>-73.982738</td>\n",
       "      <td>40.761270</td>\n",
       "      <td>-73.991242</td>\n",
       "      <td>40.750562</td>\n",
       "      <td>2</td>\n",
       "    </tr>\n",
       "    <tr>\n",
       "      <th>3</th>\n",
       "      <td>2012-04-21 04:30:42.0000001</td>\n",
       "      <td>7.7</td>\n",
       "      <td>2012-04-21 04:30:42+00:00</td>\n",
       "      <td>-73.987130</td>\n",
       "      <td>40.733143</td>\n",
       "      <td>-73.991567</td>\n",
       "      <td>40.758092</td>\n",
       "      <td>1</td>\n",
       "    </tr>\n",
       "    <tr>\n",
       "      <th>4</th>\n",
       "      <td>2010-03-09 07:51:00.000000135</td>\n",
       "      <td>5.3</td>\n",
       "      <td>2010-03-09 07:51:00+00:00</td>\n",
       "      <td>-73.968095</td>\n",
       "      <td>40.768008</td>\n",
       "      <td>-73.956655</td>\n",
       "      <td>40.783762</td>\n",
       "      <td>1</td>\n",
       "    </tr>\n",
       "  </tbody>\n",
       "</table>\n",
       "</div>"
      ],
      "text/plain": [
       "                             key  fare_amount           pickup_datetime  \\\n",
       "0    2009-06-15 17:26:21.0000001          4.5 2009-06-15 17:26:21+00:00   \n",
       "1    2010-01-05 16:52:16.0000002         16.9 2010-01-05 16:52:16+00:00   \n",
       "2   2011-08-18 00:35:00.00000049          5.7 2011-08-18 00:35:00+00:00   \n",
       "3    2012-04-21 04:30:42.0000001          7.7 2012-04-21 04:30:42+00:00   \n",
       "4  2010-03-09 07:51:00.000000135          5.3 2010-03-09 07:51:00+00:00   \n",
       "\n",
       "   pickup_longitude  pickup_latitude  dropoff_longitude  dropoff_latitude  \\\n",
       "0        -73.844311        40.721319         -73.841610         40.712278   \n",
       "1        -74.016048        40.711303         -73.979268         40.782004   \n",
       "2        -73.982738        40.761270         -73.991242         40.750562   \n",
       "3        -73.987130        40.733143         -73.991567         40.758092   \n",
       "4        -73.968095        40.768008         -73.956655         40.783762   \n",
       "\n",
       "   passenger_count  \n",
       "0                1  \n",
       "1                1  \n",
       "2                2  \n",
       "3                1  \n",
       "4                1  "
      ]
     },
     "execution_count": 6,
     "metadata": {},
     "output_type": "execute_result"
    }
   ],
   "source": [
    "# Converting to date time format\n",
    "train[\"pickup_datetime\"] = pd.to_datetime(train['pickup_datetime'])\n",
    "train.head()\n",
    "# train.info()"
   ]
  },
  {
   "cell_type": "code",
   "execution_count": 7,
   "metadata": {},
   "outputs": [
    {
     "data": {
      "text/html": [
       "<div>\n",
       "<style scoped>\n",
       "    .dataframe tbody tr th:only-of-type {\n",
       "        vertical-align: middle;\n",
       "    }\n",
       "\n",
       "    .dataframe tbody tr th {\n",
       "        vertical-align: top;\n",
       "    }\n",
       "\n",
       "    .dataframe thead th {\n",
       "        text-align: right;\n",
       "    }\n",
       "</style>\n",
       "<table border=\"1\" class=\"dataframe\">\n",
       "  <thead>\n",
       "    <tr style=\"text-align: right;\">\n",
       "      <th></th>\n",
       "      <th>fare_amount</th>\n",
       "      <th>pickup_longitude</th>\n",
       "      <th>pickup_latitude</th>\n",
       "      <th>dropoff_longitude</th>\n",
       "      <th>dropoff_latitude</th>\n",
       "      <th>passenger_count</th>\n",
       "    </tr>\n",
       "  </thead>\n",
       "  <tbody>\n",
       "    <tr>\n",
       "      <th>count</th>\n",
       "      <td>900000.000000</td>\n",
       "      <td>900000.000000</td>\n",
       "      <td>900000.000000</td>\n",
       "      <td>899990.000000</td>\n",
       "      <td>899990.000000</td>\n",
       "      <td>900000.000000</td>\n",
       "    </tr>\n",
       "    <tr>\n",
       "      <th>mean</th>\n",
       "      <td>11.346604</td>\n",
       "      <td>-72.530192</td>\n",
       "      <td>39.931184</td>\n",
       "      <td>-72.530185</td>\n",
       "      <td>39.921118</td>\n",
       "      <td>1.684816</td>\n",
       "    </tr>\n",
       "    <tr>\n",
       "      <th>std</th>\n",
       "      <td>9.820414</td>\n",
       "      <td>12.175383</td>\n",
       "      <td>7.756247</td>\n",
       "      <td>11.370009</td>\n",
       "      <td>8.393865</td>\n",
       "      <td>1.307950</td>\n",
       "    </tr>\n",
       "    <tr>\n",
       "      <th>min</th>\n",
       "      <td>-44.900000</td>\n",
       "      <td>-3377.680935</td>\n",
       "      <td>-3116.285383</td>\n",
       "      <td>-3383.296608</td>\n",
       "      <td>-3114.338567</td>\n",
       "      <td>0.000000</td>\n",
       "    </tr>\n",
       "    <tr>\n",
       "      <th>25%</th>\n",
       "      <td>6.000000</td>\n",
       "      <td>-73.992058</td>\n",
       "      <td>40.734962</td>\n",
       "      <td>-73.991390</td>\n",
       "      <td>40.734036</td>\n",
       "      <td>1.000000</td>\n",
       "    </tr>\n",
       "    <tr>\n",
       "      <th>50%</th>\n",
       "      <td>8.500000</td>\n",
       "      <td>-73.981797</td>\n",
       "      <td>40.752688</td>\n",
       "      <td>-73.980148</td>\n",
       "      <td>40.753162</td>\n",
       "      <td>1.000000</td>\n",
       "    </tr>\n",
       "    <tr>\n",
       "      <th>75%</th>\n",
       "      <td>12.500000</td>\n",
       "      <td>-73.967102</td>\n",
       "      <td>40.767133</td>\n",
       "      <td>-73.963670</td>\n",
       "      <td>40.768123</td>\n",
       "      <td>2.000000</td>\n",
       "    </tr>\n",
       "    <tr>\n",
       "      <th>max</th>\n",
       "      <td>500.000000</td>\n",
       "      <td>2522.271325</td>\n",
       "      <td>2621.628430</td>\n",
       "      <td>45.581619</td>\n",
       "      <td>1651.553433</td>\n",
       "      <td>6.000000</td>\n",
       "    </tr>\n",
       "  </tbody>\n",
       "</table>\n",
       "</div>"
      ],
      "text/plain": [
       "         fare_amount  pickup_longitude  pickup_latitude  dropoff_longitude  \\\n",
       "count  900000.000000     900000.000000    900000.000000      899990.000000   \n",
       "mean       11.346604        -72.530192        39.931184         -72.530185   \n",
       "std         9.820414         12.175383         7.756247          11.370009   \n",
       "min       -44.900000      -3377.680935     -3116.285383       -3383.296608   \n",
       "25%         6.000000        -73.992058        40.734962         -73.991390   \n",
       "50%         8.500000        -73.981797        40.752688         -73.980148   \n",
       "75%        12.500000        -73.967102        40.767133         -73.963670   \n",
       "max       500.000000       2522.271325      2621.628430          45.581619   \n",
       "\n",
       "       dropoff_latitude  passenger_count  \n",
       "count     899990.000000    900000.000000  \n",
       "mean          39.921118         1.684816  \n",
       "std            8.393865         1.307950  \n",
       "min        -3114.338567         0.000000  \n",
       "25%           40.734036         1.000000  \n",
       "50%           40.753162         1.000000  \n",
       "75%           40.768123         2.000000  \n",
       "max         1651.553433         6.000000  "
      ]
     },
     "execution_count": 7,
     "metadata": {},
     "output_type": "execute_result"
    }
   ],
   "source": [
    "# Basic Statistics \n",
    "# How is minimum fare_amount negative?\n",
    "# How is latitude and longitude in thousands?\n",
    "# Latitude ranges from +90 to -90 while longitude ranges from -180 to +180\n",
    "# We need to treat these values accordingly\n",
    "train.describe()\n",
    "# train.describe().T"
   ]
  },
  {
   "cell_type": "code",
   "execution_count": 8,
   "metadata": {},
   "outputs": [
    {
     "data": {
      "text/plain": [
       "key                   0\n",
       "fare_amount           0\n",
       "pickup_datetime       0\n",
       "pickup_longitude      0\n",
       "pickup_latitude       0\n",
       "dropoff_longitude    10\n",
       "dropoff_latitude     10\n",
       "passenger_count       0\n",
       "dtype: int64"
      ]
     },
     "execution_count": 8,
     "metadata": {},
     "output_type": "execute_result"
    }
   ],
   "source": [
    "# Checking for null values\n",
    "# There are null values in longitude/latitude rows\n",
    "train.isnull().sum()"
   ]
  },
  {
   "cell_type": "code",
   "execution_count": 9,
   "metadata": {},
   "outputs": [
    {
     "data": {
      "text/plain": [
       "key                  0\n",
       "fare_amount          0\n",
       "pickup_datetime      0\n",
       "pickup_longitude     0\n",
       "pickup_latitude      0\n",
       "dropoff_longitude    0\n",
       "dropoff_latitude     0\n",
       "passenger_count      0\n",
       "dtype: int64"
      ]
     },
     "execution_count": 9,
     "metadata": {},
     "output_type": "execute_result"
    }
   ],
   "source": [
    "# Dropping null values\n",
    "train.dropna(inplace = True)\n",
    "train.isnull().sum()"
   ]
  },
  {
   "cell_type": "code",
   "execution_count": 10,
   "metadata": {},
   "outputs": [],
   "source": [
    "# Lets visualize the negative and extreme values\n",
    "# Seaborn distplot shows a histogram distrubution with a line on it\n",
    "import matplotlib.pyplot as plt\n",
    "import seaborn as sns\n",
    "%matplotlib inline"
   ]
  },
  {
   "cell_type": "code",
   "execution_count": 11,
   "metadata": {},
   "outputs": [
    {
     "data": {
      "text/plain": [
       "<matplotlib.axes._subplots.AxesSubplot at 0x22a914c4cd0>"
      ]
     },
     "execution_count": 11,
     "metadata": {},
     "output_type": "execute_result"
    },
    {
     "data": {
      "image/png": "[encoded data removed]",
      "text/plain": [
       "<Figure size 432x288 with 1 Axes>"
      ]
     },
     "metadata": {
      "needs_background": "light"
     },
     "output_type": "display_data"
    }
   ],
   "source": [
    "sns.distplot(train['fare_amount'])\n",
    "# Negative fair amount"
   ]
  },
  {
   "cell_type": "code",
   "execution_count": 12,
   "metadata": {},
   "outputs": [
    {
     "data": {
      "text/plain": [
       "<matplotlib.axes._subplots.AxesSubplot at 0x22a922a27c0>"
      ]
     },
     "execution_count": 12,
     "metadata": {},
     "output_type": "execute_result"
    },
    {
     "data": {
      "image/png": "[encoded data removed]",
      "text/plain": [
       "<Figure size 432x288 with 1 Axes>"
      ]
     },
     "metadata": {
      "needs_background": "light"
     },
     "output_type": "display_data"
    }
   ],
   "source": [
    "sns.distplot(train['pickup_latitude'])\n",
    "# Greater than 1000 on either side"
   ]
  },
  {
   "cell_type": "code",
   "execution_count": 13,
   "metadata": {},
   "outputs": [
    {
     "data": {
      "text/plain": [
       "<matplotlib.axes._subplots.AxesSubplot at 0x22a9257b3a0>"
      ]
     },
     "execution_count": 13,
     "metadata": {},
     "output_type": "execute_result"
    },
    {
     "data": {
      "image/png": "[encoded data removed]",
      "text/plain": [
       "<Figure size 432x288 with 1 Axes>"
      ]
     },
     "metadata": {
      "needs_background": "light"
     },
     "output_type": "display_data"
    }
   ],
   "source": [
    "sns.distplot(train['pickup_longitude'])\n",
    "# Greater than 1000 on either side"
   ]
  },
  {
   "cell_type": "code",
   "execution_count": 14,
   "metadata": {},
   "outputs": [
    {
     "data": {
      "text/plain": [
       "<matplotlib.axes._subplots.AxesSubplot at 0x22a928feb80>"
      ]
     },
     "execution_count": 14,
     "metadata": {},
     "output_type": "execute_result"
    },
    {
     "data": {
      "image/png": "[encoded data removed]",
      "text/plain": [
       "<Figure size 432x288 with 1 Axes>"
      ]
     },
     "metadata": {
      "needs_background": "light"
     },
     "output_type": "display_data"
    }
   ],
   "source": [
    "sns.distplot(train['dropoff_longitude'])\n",
    "# Goes all the way up to negative 3000"
   ]
  },
  {
   "cell_type": "code",
   "execution_count": 15,
   "metadata": {},
   "outputs": [
    {
     "data": {
      "text/plain": [
       "<matplotlib.axes._subplots.AxesSubplot at 0x22a929d9520>"
      ]
     },
     "execution_count": 15,
     "metadata": {},
     "output_type": "execute_result"
    },
    {
     "data": {
      "image/png": "[encoded data removed]",
      "text/plain": [
       "<Figure size 432x288 with 1 Axes>"
      ]
     },
     "metadata": {
      "needs_background": "light"
     },
     "output_type": "display_data"
    }
   ],
   "source": [
    "sns.distplot(train['dropoff_latitude'])\n",
    "# This indicates to much noise in the data"
   ]
  },
  {
   "cell_type": "code",
   "execution_count": 16,
   "metadata": {},
   "outputs": [
    {
     "name": "stdout",
     "output_type": "stream",
     "text": [
      "40.568973\n",
      "41.696683\n",
      "-74.263242\n",
      "-72.990963\n",
      "40.573143\n",
      "41.709555\n",
      "-74.252193\n",
      "-72.986532\n"
     ]
    }
   ],
   "source": [
    "# Looking at the range of latitude and longitude\n",
    "print(test[\"dropoff_latitude\"].min()) # drop_off latitude min\n",
    "print(test[\"dropoff_latitude\"].max()) # drop_off latitude max\n",
    "print(test[\"dropoff_longitude\"].min()) # drop_off longitude min\n",
    "print(test[\"dropoff_longitude\"].max()) # drop_off longitude max\n",
    "print(test[\"pickup_latitude\"].min()) # pickup latitude min\n",
    "print(test[\"pickup_latitude\"].max()) # pickup latitude max\n",
    "print(test[\"pickup_longitude\"].min()) # pickup longitude min\n",
    "print(test[\"pickup_longitude\"].max()) # pickup longitude max"
   ]
  },
  {
   "cell_type": "code",
   "execution_count": 17,
   "metadata": {},
   "outputs": [
    {
     "data": {
      "text/plain": [
       "(880996, 8)"
      ]
     },
     "execution_count": 17,
     "metadata": {},
     "output_type": "execute_result"
    }
   ],
   "source": [
    "# Removing all negative values in latitude and longitude\n",
    "# Setting the range for noisy data \n",
    "min_longitude = -74.263242\n",
    "min_latitude = 40.573143\n",
    "max_longitude = -72.986532\n",
    "max_latitude = 41.709555\n",
    "\n",
    "Noise = train[(train[\"dropoff_latitude\"]<min_latitude) | (train[\"pickup_latitude\"]<min_latitude) | (train[\"dropoff_longitude\"]<min_longitude) | (train[\"pickup_longitude\"]<min_longitude) | (train[\"dropoff_latitude\"]>max_latitude) | (train[\"pickup_latitude\"]>max_latitude) | (train[\"dropoff_longitude\"]>max_longitude) | (train[\"pickup_longitude\"]>max_longitude) ]\n",
    "# Noise.shape\n",
    "train.drop(Noise.index, inplace = True)\n",
    "train.shape"
   ]
  },
  {
   "cell_type": "code",
   "execution_count": 18,
   "metadata": {},
   "outputs": [
    {
     "data": {
      "text/plain": [
       "(880941, 8)"
      ]
     },
     "execution_count": 18,
     "metadata": {},
     "output_type": "execute_result"
    }
   ],
   "source": [
    "# Removing negative fare value\n",
    "train = train[train['fare_amount']>0]\n",
    "train.shape"
   ]
  },
  {
   "cell_type": "code",
   "execution_count": 19,
   "metadata": {},
   "outputs": [
    {
     "data": {
      "text/html": [
       "<div>\n",
       "<style scoped>\n",
       "    .dataframe tbody tr th:only-of-type {\n",
       "        vertical-align: middle;\n",
       "    }\n",
       "\n",
       "    .dataframe tbody tr th {\n",
       "        vertical-align: top;\n",
       "    }\n",
       "\n",
       "    .dataframe thead th {\n",
       "        text-align: right;\n",
       "    }\n",
       "</style>\n",
       "<table border=\"1\" class=\"dataframe\">\n",
       "  <thead>\n",
       "    <tr style=\"text-align: right;\">\n",
       "      <th></th>\n",
       "      <th>key</th>\n",
       "      <th>fare_amount</th>\n",
       "      <th>pickup_datetime</th>\n",
       "      <th>pickup_longitude</th>\n",
       "      <th>pickup_latitude</th>\n",
       "      <th>dropoff_longitude</th>\n",
       "      <th>dropoff_latitude</th>\n",
       "      <th>passenger_count</th>\n",
       "      <th>day</th>\n",
       "      <th>hour</th>\n",
       "      <th>weekday</th>\n",
       "      <th>month</th>\n",
       "      <th>year</th>\n",
       "    </tr>\n",
       "  </thead>\n",
       "  <tbody>\n",
       "    <tr>\n",
       "      <th>0</th>\n",
       "      <td>2009-06-15 17:26:21.0000001</td>\n",
       "      <td>4.5</td>\n",
       "      <td>2009-06-15 17:26:21+00:00</td>\n",
       "      <td>-73.844311</td>\n",
       "      <td>40.721319</td>\n",
       "      <td>-73.841610</td>\n",
       "      <td>40.712278</td>\n",
       "      <td>1</td>\n",
       "      <td>15</td>\n",
       "      <td>17</td>\n",
       "      <td>Monday</td>\n",
       "      <td>6</td>\n",
       "      <td>2009</td>\n",
       "    </tr>\n",
       "    <tr>\n",
       "      <th>1</th>\n",
       "      <td>2010-01-05 16:52:16.0000002</td>\n",
       "      <td>16.9</td>\n",
       "      <td>2010-01-05 16:52:16+00:00</td>\n",
       "      <td>-74.016048</td>\n",
       "      <td>40.711303</td>\n",
       "      <td>-73.979268</td>\n",
       "      <td>40.782004</td>\n",
       "      <td>1</td>\n",
       "      <td>5</td>\n",
       "      <td>16</td>\n",
       "      <td>Tuesday</td>\n",
       "      <td>1</td>\n",
       "      <td>2010</td>\n",
       "    </tr>\n",
       "    <tr>\n",
       "      <th>2</th>\n",
       "      <td>2011-08-18 00:35:00.00000049</td>\n",
       "      <td>5.7</td>\n",
       "      <td>2011-08-18 00:35:00+00:00</td>\n",
       "      <td>-73.982738</td>\n",
       "      <td>40.761270</td>\n",
       "      <td>-73.991242</td>\n",
       "      <td>40.750562</td>\n",
       "      <td>2</td>\n",
       "      <td>18</td>\n",
       "      <td>0</td>\n",
       "      <td>Thursday</td>\n",
       "      <td>8</td>\n",
       "      <td>2011</td>\n",
       "    </tr>\n",
       "    <tr>\n",
       "      <th>3</th>\n",
       "      <td>2012-04-21 04:30:42.0000001</td>\n",
       "      <td>7.7</td>\n",
       "      <td>2012-04-21 04:30:42+00:00</td>\n",
       "      <td>-73.987130</td>\n",
       "      <td>40.733143</td>\n",
       "      <td>-73.991567</td>\n",
       "      <td>40.758092</td>\n",
       "      <td>1</td>\n",
       "      <td>21</td>\n",
       "      <td>4</td>\n",
       "      <td>Saturday</td>\n",
       "      <td>4</td>\n",
       "      <td>2012</td>\n",
       "    </tr>\n",
       "    <tr>\n",
       "      <th>4</th>\n",
       "      <td>2010-03-09 07:51:00.000000135</td>\n",
       "      <td>5.3</td>\n",
       "      <td>2010-03-09 07:51:00+00:00</td>\n",
       "      <td>-73.968095</td>\n",
       "      <td>40.768008</td>\n",
       "      <td>-73.956655</td>\n",
       "      <td>40.783762</td>\n",
       "      <td>1</td>\n",
       "      <td>9</td>\n",
       "      <td>7</td>\n",
       "      <td>Tuesday</td>\n",
       "      <td>3</td>\n",
       "      <td>2010</td>\n",
       "    </tr>\n",
       "  </tbody>\n",
       "</table>\n",
       "</div>"
      ],
      "text/plain": [
       "                             key  fare_amount           pickup_datetime  \\\n",
       "0    2009-06-15 17:26:21.0000001          4.5 2009-06-15 17:26:21+00:00   \n",
       "1    2010-01-05 16:52:16.0000002         16.9 2010-01-05 16:52:16+00:00   \n",
       "2   2011-08-18 00:35:00.00000049          5.7 2011-08-18 00:35:00+00:00   \n",
       "3    2012-04-21 04:30:42.0000001          7.7 2012-04-21 04:30:42+00:00   \n",
       "4  2010-03-09 07:51:00.000000135          5.3 2010-03-09 07:51:00+00:00   \n",
       "\n",
       "   pickup_longitude  pickup_latitude  dropoff_longitude  dropoff_latitude  \\\n",
       "0        -73.844311        40.721319         -73.841610         40.712278   \n",
       "1        -74.016048        40.711303         -73.979268         40.782004   \n",
       "2        -73.982738        40.761270         -73.991242         40.750562   \n",
       "3        -73.987130        40.733143         -73.991567         40.758092   \n",
       "4        -73.968095        40.768008         -73.956655         40.783762   \n",
       "\n",
       "   passenger_count  day  hour   weekday  month  year  \n",
       "0                1   15    17    Monday      6  2009  \n",
       "1                1    5    16   Tuesday      1  2010  \n",
       "2                2   18     0  Thursday      8  2011  \n",
       "3                1   21     4  Saturday      4  2012  \n",
       "4                1    9     7   Tuesday      3  2010  "
      ]
     },
     "execution_count": 19,
     "metadata": {},
     "output_type": "execute_result"
    }
   ],
   "source": [
    "# The fare price of Uber is subject to surge during high demand\n",
    "# Sure occurs druing peak and rush hours\n",
    "# Lets extract the different days/weeks/time/months that are subject to surge in seperate columns\n",
    "# Lambda is a one time use function\n",
    "\n",
    "import calendar\n",
    "train['day'] = train['pickup_datetime'].apply(lambda x: x.day)\n",
    "train['hour'] = train['pickup_datetime'].apply(lambda x: x.hour)\n",
    "train['weekday'] = train['pickup_datetime'].apply(lambda x: calendar.day_name[x.weekday()])\n",
    "train['month'] = train['pickup_datetime'].apply(lambda x: x.month)\n",
    "train['year'] = train['pickup_datetime'].apply(lambda x: x.year)\n",
    "train.head()"
   ]
  },
  {
   "cell_type": "code",
   "execution_count": 20,
   "metadata": {},
   "outputs": [
    {
     "name": "stdout",
     "output_type": "stream",
     "text": [
      "<class 'pandas.core.frame.DataFrame'>\n",
      "Int64Index: 880941 entries, 0 to 899999\n",
      "Data columns (total 13 columns):\n",
      " #   Column             Non-Null Count   Dtype              \n",
      "---  ------             --------------   -----              \n",
      " 0   key                880941 non-null  object             \n",
      " 1   fare_amount        880941 non-null  float64            \n",
      " 2   pickup_datetime    880941 non-null  datetime64[ns, UTC]\n",
      " 3   pickup_longitude   880941 non-null  float64            \n",
      " 4   pickup_latitude    880941 non-null  float64            \n",
      " 5   dropoff_longitude  880941 non-null  float64            \n",
      " 6   dropoff_latitude   880941 non-null  float64            \n",
      " 7   passenger_count    880941 non-null  int64              \n",
      " 8   day                880941 non-null  int64              \n",
      " 9   hour               880941 non-null  int64              \n",
      " 10  weekday            880941 non-null  int64              \n",
      " 11  month              880941 non-null  int64              \n",
      " 12  year               880941 non-null  int64              \n",
      "dtypes: datetime64[ns, UTC](1), float64(5), int64(6), object(1)\n",
      "memory usage: 94.1+ MB\n"
     ]
    }
   ],
   "source": [
    "# Coverting days of the week to numbers with the map function\n",
    "train.weekday = train.weekday.map({'Sunday': 0,'Monday': 1,'Tuesday': 2,'Wednesday': 3,'Thursday': 4,'Friday': 5,'Saturday': 6})\n",
    "# train.weekday\n",
    "train.info()"
   ]
  },
  {
   "cell_type": "code",
   "execution_count": 21,
   "metadata": {
    "scrolled": false
   },
   "outputs": [
    {
     "name": "stdout",
     "output_type": "stream",
     "text": [
      "<class 'pandas.core.frame.DataFrame'>\n",
      "Int64Index: 880941 entries, 0 to 899999\n",
      "Data columns (total 11 columns):\n",
      " #   Column             Non-Null Count   Dtype  \n",
      "---  ------             --------------   -----  \n",
      " 0   fare_amount        880941 non-null  float64\n",
      " 1   pickup_longitude   880941 non-null  float64\n",
      " 2   pickup_latitude    880941 non-null  float64\n",
      " 3   dropoff_longitude  880941 non-null  float64\n",
      " 4   dropoff_latitude   880941 non-null  float64\n",
      " 5   passenger_count    880941 non-null  int64  \n",
      " 6   day                880941 non-null  int64  \n",
      " 7   hour               880941 non-null  int64  \n",
      " 8   weekday            880941 non-null  int64  \n",
      " 9   month              880941 non-null  int64  \n",
      " 10  year               880941 non-null  int64  \n",
      "dtypes: float64(5), int64(6)\n",
      "memory usage: 80.7 MB\n"
     ]
    }
   ],
   "source": [
    "# Removing redundant columns such as key and pickup_datetime\n",
    "train.drop([\"key\",\"pickup_datetime\"], axis = 1, inplace=True)\n",
    "train.info()"
   ]
  },
  {
   "cell_type": "code",
   "execution_count": 22,
   "metadata": {},
   "outputs": [],
   "source": [
    "# Due to a very high number of floats and integers\n",
    "# Lets standardize the dataset and remove NaN\n",
    "# Standardization involves shifting the distribution of each data point to a mean of 0 and an SD of 1\n",
    "from sklearn.preprocessing import StandardScaler\n",
    "sc_x = StandardScaler()\n",
    "h = pd.DataFrame(sc_x.fit_transform(train))\n",
    "l = train.dropna(axis = 1)"
   ]
  },
  {
   "cell_type": "code",
   "execution_count": 23,
   "metadata": {},
   "outputs": [],
   "source": [
    "# Splitting the Dataset\n",
    "# Since we have to predict the amount of fare, this becomes our output variable \n",
    "x = l.drop(\"fare_amount\", axis = 1)\n",
    "y = l['fare_amount']"
   ]
  },
  {
   "cell_type": "code",
   "execution_count": 24,
   "metadata": {},
   "outputs": [],
   "source": [
    "from sklearn.model_selection import train_test_split\n",
    "x_train, x_test, y_train, y_test = train_test_split(x, y, test_size = 0.2, random_state = 42)\n",
    "\n",
    "# x_train.head()\n",
    "# x_test.head()\n",
    "# x_train.shape\n",
    "# x_test.shape"
   ]
  },
  {
   "cell_type": "code",
   "execution_count": 26,
   "metadata": {},
   "outputs": [
    {
     "data": {
      "text/plain": [
       "LinearRegression()"
      ]
     },
     "execution_count": 26,
     "metadata": {},
     "output_type": "execute_result"
    }
   ],
   "source": [
    "# Since the predicted variable is continous, linear regression will be a suitable model\n",
    "from sklearn.linear_model import LinearRegression\n",
    "model1 = LinearRegression()\n",
    "model1.fit(x_train, y_train)"
   ]
  },
  {
   "cell_type": "code",
   "execution_count": 27,
   "metadata": {},
   "outputs": [
    {
     "data": {
      "text/plain": [
       "array([12.68929877,  8.81364457,  8.42580898, ..., 25.21021038,\n",
       "       12.45273276, 10.805808  ])"
      ]
     },
     "execution_count": 27,
     "metadata": {},
     "output_type": "execute_result"
    }
   ],
   "source": [
    "# Looking at the predicted array\n",
    "y_predict = model1.predict(x_test)\n",
    "y_predict"
   ]
  },
  {
   "cell_type": "code",
   "execution_count": 28,
   "metadata": {},
   "outputs": [
    {
     "name": "stdout",
     "output_type": "stream",
     "text": [
      "RMSE value for Linear regression is 8.114913216737621\n"
     ]
    }
   ],
   "source": [
    "# Calculating the rmse for linear Regression model\n",
    "# The closer the value to 1, more the accuracy\n",
    "from sklearn.metrics import mean_squared_error\n",
    "model1_rmse = np.sqrt(mean_squared_error(y_predict, y_test))\n",
    "print(\"RMSE value for Linear regression is\", model1_rmse)"
   ]
  },
  {
   "cell_type": "code",
   "execution_count": 30,
   "metadata": {},
   "outputs": [],
   "source": [
    "# Trying Randomn Forest Classifier\n",
    "from sklearn.ensemble import RandomForestRegressor\n",
    "rfmodel = RandomForestRegressor(n_estimators = 10, random_state = 42)\n",
    "rfmodel.fit(x_train,y_train)\n",
    "rfmodel_pred= rfmodel.predict(x_test)"
   ]
  },
  {
   "cell_type": "code",
   "execution_count": 31,
   "metadata": {},
   "outputs": [
    {
     "name": "stdout",
     "output_type": "stream",
     "text": [
      "RMSE value for Random forest regression is  3.95179579254271\n"
     ]
    }
   ],
   "source": [
    "rfmodel_rmse = np.sqrt(mean_squared_error(rfmodel_pred, y_test))\n",
    "print(\"RMSE value for Random forest regression is \", rfmodel_rmse)"
   ]
  },
  {
   "cell_type": "code",
   "execution_count": 32,
   "metadata": {},
   "outputs": [],
   "source": [
    "# RSME for Random Forest is closer to 1 \n",
    "# RFC will be the preferred model\n",
    "# Thank You"
   ]
  }
 ],
 "metadata": {
  "kernelspec": {
   "display_name": "Python 3",
   "language": "python",
   "name": "python3"
  },
  "language_info": {
   "codemirror_mode": {
    "name": "ipython",
    "version": 3
   },
   "file_extension": ".py",
   "mimetype": "text/x-python",
   "name": "python",
   "nbconvert_exporter": "python",
   "pygments_lexer": "ipython3",
   "version": "3.8.3"
  }
 },
 "nbformat": 4,
 "nbformat_minor": 4
}
